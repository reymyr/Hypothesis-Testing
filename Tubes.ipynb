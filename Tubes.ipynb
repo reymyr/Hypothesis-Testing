{
 "metadata": {
  "language_info": {
   "codemirror_mode": {
    "name": "ipython",
    "version": 3
   },
   "file_extension": ".py",
   "mimetype": "text/x-python",
   "name": "python",
   "nbconvert_exporter": "python",
   "pygments_lexer": "ipython3",
   "version": "3.8.8"
  },
  "orig_nbformat": 2,
  "kernelspec": {
   "name": "python388jvsc74a57bd0c00d3516dde569205dddedbcae33ab2f2a9ceedd92f9928f65ec9dadfaf3d47d",
   "display_name": "Python 3.8.8 64-bit"
  },
  "metadata": {
   "interpreter": {
    "hash": "c00d3516dde569205dddedbcae33ab2f2a9ceedd92f9928f65ec9dadfaf3d47d"
   }
  }
 },
 "nbformat": 4,
 "nbformat_minor": 2,
 "cells": [
  {
   "source": [
    "# Tugas Besar IF2220 Probabilitas dan Statistika\n",
    "\n"
   ],
   "cell_type": "markdown",
   "metadata": {}
  },
  {
   "cell_type": "code",
   "execution_count": 12,
   "metadata": {},
   "outputs": [
    {
     "output_type": "execute_result",
     "data": {
      "text/plain": [
       "               id       Daerah  SumbuUtama  SumbuKecil    Keunikan  \\\n",
       "count  500.000000   500.000000  500.000000  500.000000  500.000000   \n",
       "mean   250.500000  4801.246000  116.045171   53.715246    0.878764   \n",
       "std    144.481833   986.395491   18.282626    4.071075    0.036586   \n",
       "min      1.000000  2522.000000   74.133114   39.906517    0.719916   \n",
       "25%    125.750000  4042.750000  104.116098   51.193576    0.863676   \n",
       "50%    250.500000  4735.000000  115.405140   53.731199    0.890045   \n",
       "75%    375.250000  5495.500000  129.046792   56.325158    0.907578   \n",
       "max    500.000000  7453.000000  227.928583   68.977700    0.914001   \n",
       "\n",
       "       AreaBulatan    Diameter    KadarAir    Keliling     Bulatan  \\\n",
       "count   500.000000  500.000000  500.000000  500.000000  500.000000   \n",
       "mean   4937.048000   77.771158    0.648372  281.479722    0.761737   \n",
       "std    1011.696255    8.056867    0.094367   37.335402    0.061702   \n",
       "min    2579.000000   56.666658    0.409927  197.015000    0.174590   \n",
       "25%    4170.250000   71.745308    0.572632  255.883000    0.731991   \n",
       "50%    4857.000000   77.645277    0.626117  280.045500    0.761288   \n",
       "75%    5654.250000   83.648598    0.726633  306.062500    0.796361   \n",
       "max    7720.000000   97.413830    0.878899  488.837000    0.904748   \n",
       "\n",
       "           Ransum       Kelas  \n",
       "count  500.000000  500.000000  \n",
       "mean     2.150915    1.502000  \n",
       "std      0.249767    0.500497  \n",
       "min      1.440796    1.000000  \n",
       "25%      1.983939    1.000000  \n",
       "50%      2.193599    2.000000  \n",
       "75%      2.381612    2.000000  \n",
       "max      2.464809    2.000000  "
      ],
      "text/html": "<div>\n<style scoped>\n    .dataframe tbody tr th:only-of-type {\n        vertical-align: middle;\n    }\n\n    .dataframe tbody tr th {\n        vertical-align: top;\n    }\n\n    .dataframe thead th {\n        text-align: right;\n    }\n</style>\n<table border=\"1\" class=\"dataframe\">\n  <thead>\n    <tr style=\"text-align: right;\">\n      <th></th>\n      <th>id</th>\n      <th>Daerah</th>\n      <th>SumbuUtama</th>\n      <th>SumbuKecil</th>\n      <th>Keunikan</th>\n      <th>AreaBulatan</th>\n      <th>Diameter</th>\n      <th>KadarAir</th>\n      <th>Keliling</th>\n      <th>Bulatan</th>\n      <th>Ransum</th>\n      <th>Kelas</th>\n    </tr>\n  </thead>\n  <tbody>\n    <tr>\n      <th>count</th>\n      <td>500.000000</td>\n      <td>500.000000</td>\n      <td>500.000000</td>\n      <td>500.000000</td>\n      <td>500.000000</td>\n      <td>500.000000</td>\n      <td>500.000000</td>\n      <td>500.000000</td>\n      <td>500.000000</td>\n      <td>500.000000</td>\n      <td>500.000000</td>\n      <td>500.000000</td>\n    </tr>\n    <tr>\n      <th>mean</th>\n      <td>250.500000</td>\n      <td>4801.246000</td>\n      <td>116.045171</td>\n      <td>53.715246</td>\n      <td>0.878764</td>\n      <td>4937.048000</td>\n      <td>77.771158</td>\n      <td>0.648372</td>\n      <td>281.479722</td>\n      <td>0.761737</td>\n      <td>2.150915</td>\n      <td>1.502000</td>\n    </tr>\n    <tr>\n      <th>std</th>\n      <td>144.481833</td>\n      <td>986.395491</td>\n      <td>18.282626</td>\n      <td>4.071075</td>\n      <td>0.036586</td>\n      <td>1011.696255</td>\n      <td>8.056867</td>\n      <td>0.094367</td>\n      <td>37.335402</td>\n      <td>0.061702</td>\n      <td>0.249767</td>\n      <td>0.500497</td>\n    </tr>\n    <tr>\n      <th>min</th>\n      <td>1.000000</td>\n      <td>2522.000000</td>\n      <td>74.133114</td>\n      <td>39.906517</td>\n      <td>0.719916</td>\n      <td>2579.000000</td>\n      <td>56.666658</td>\n      <td>0.409927</td>\n      <td>197.015000</td>\n      <td>0.174590</td>\n      <td>1.440796</td>\n      <td>1.000000</td>\n    </tr>\n    <tr>\n      <th>25%</th>\n      <td>125.750000</td>\n      <td>4042.750000</td>\n      <td>104.116098</td>\n      <td>51.193576</td>\n      <td>0.863676</td>\n      <td>4170.250000</td>\n      <td>71.745308</td>\n      <td>0.572632</td>\n      <td>255.883000</td>\n      <td>0.731991</td>\n      <td>1.983939</td>\n      <td>1.000000</td>\n    </tr>\n    <tr>\n      <th>50%</th>\n      <td>250.500000</td>\n      <td>4735.000000</td>\n      <td>115.405140</td>\n      <td>53.731199</td>\n      <td>0.890045</td>\n      <td>4857.000000</td>\n      <td>77.645277</td>\n      <td>0.626117</td>\n      <td>280.045500</td>\n      <td>0.761288</td>\n      <td>2.193599</td>\n      <td>2.000000</td>\n    </tr>\n    <tr>\n      <th>75%</th>\n      <td>375.250000</td>\n      <td>5495.500000</td>\n      <td>129.046792</td>\n      <td>56.325158</td>\n      <td>0.907578</td>\n      <td>5654.250000</td>\n      <td>83.648598</td>\n      <td>0.726633</td>\n      <td>306.062500</td>\n      <td>0.796361</td>\n      <td>2.381612</td>\n      <td>2.000000</td>\n    </tr>\n    <tr>\n      <th>max</th>\n      <td>500.000000</td>\n      <td>7453.000000</td>\n      <td>227.928583</td>\n      <td>68.977700</td>\n      <td>0.914001</td>\n      <td>7720.000000</td>\n      <td>97.413830</td>\n      <td>0.878899</td>\n      <td>488.837000</td>\n      <td>0.904748</td>\n      <td>2.464809</td>\n      <td>2.000000</td>\n    </tr>\n  </tbody>\n</table>\n</div>"
     },
     "metadata": {},
     "execution_count": 12
    }
   ],
   "source": [
    "import pandas as pd\n",
    "\n",
    "# Baca file Gandum.csv\n",
    "columnNames = [\"id\", \"Daerah\", \"SumbuUtama\", \"SumbuKecil\", \"Keunikan\", \"AreaBulatan\", \"Diameter\", \"KadarAir\", \"Keliling\", \"Bulatan\", \"Ransum\", \"Kelas\"]\n",
    "df = pd.read_csv(\"Gandum.csv\", names=columnNames)\n",
    "df.describe()"
   ]
  },
  {
   "source": [
    "1. Menulis deskripsi statistika (Descriptive Statistics) dari semua kolom pada data yang bersifat\n",
    "numerik, terdiri dari mean, median, modus, standar deviasi, variansi, range, nilai minimum,\n",
    "maksimum, kuartil, IQR, skewness dan kurtosis. Boleh juga ditambahkan deskripsi lain."
   ],
   "cell_type": "markdown",
   "metadata": {}
  },
  {
   "cell_type": "code",
   "execution_count": 56,
   "metadata": {},
   "outputs": [],
   "source": [
    "def getStatisticDescription(df):\n",
    "    print(\"Mean =\", df.mean())\n",
    "    print(\"Median =\", df.median())\n",
    "    modus = df.mode()\n",
    "    print(\"Modus = \", end=\"\")\n",
    "    for i in range(len(modus)):\n",
    "        if i != 0:\n",
    "            print(\", \", end=\"\")\n",
    "        print(modus[i], end=\"\")\n",
    "    print()\n",
    "    print(\"Standar Deviasi =\", df.std())\n",
    "    print(\"Variansi =\", df.var())\n",
    "    print(\"Range =\", df.max()-df.min())\n",
    "    print(\"Nilai Minimum =\", df.min())\n",
    "    print(\"Nilai Maksimum =\", df.max())\n",
    "    print(\"Q1 =\", df.quantile(0.25))\n",
    "    print(\"Q2 =\", df.quantile(0.5))\n",
    "    print(\"Q3 =\", df.quantile(0.75))\n",
    "    print(\"IQR =\", df.quantile(0.75)-df.quantile(0.25))\n",
    "    print(\"Skewness =\", df.skew())\n",
    "    print(\"Kurtosis =\", df.kurt())"
   ]
  },
  {
   "source": [
    "### Kolom Daerah"
   ],
   "cell_type": "markdown",
   "metadata": {}
  },
  {
   "source": [
    "getStatisticDescription(df[\"Daerah\"])"
   ],
   "cell_type": "code",
   "metadata": {},
   "execution_count": 58,
   "outputs": [
    {
     "output_type": "stream",
     "name": "stdout",
     "text": [
      "Mean = 4801.246\nMedian = 4735.0\nModus = 3992, 4881, 5642, 6083\nStandar Deviasi = 986.3954914816017\nVariansi = 972976.0656152305\nRange = 4931\nNilai Minimum = 2522\nNilai Maksimum = 7453\nQ1 = 4042.75\nQ2 = 4735.0\nQ3 = 5495.5\nIQR = 1452.75\nSkewness = 0.23814408738280812\nKurtosis = -0.4346305340273977\n"
     ]
    }
   ]
  },
  {
   "source": [
    "2. Membuat Visualisasi plot distribusi, dalam bentuk histogram dan boxplot untuk setiap\n",
    "kolom numerik. Berikan uraian penjelasan kondisi setiap kolom berdasarkan kedua plot\n",
    "tersebut."
   ],
   "cell_type": "markdown",
   "metadata": {}
  },
  {
   "source": [
    "3. Menentukan setiap kolom numerik berdistribusi normal atau tidak. Gunakan normality test\n",
    "yang dikaitkan dengan histogram plot"
   ],
   "cell_type": "markdown",
   "metadata": {}
  },
  {
   "source": [
    "4. Melakukan test hipotesis 1 sampel, dengan menuliskan 6 langkah testing dan menampilkan\n",
    "juga boxplotnya untuk kolom/bagian yang bersesuaian.\n",
    "\n",
    "    a. Nilai rata-rata Daerah di atas 4700?\n",
    "\n",
    "    b. Nilai Rata-rata Sumbu Utama tidak sama dengan 116?\n",
    "\n",
    "    c. Nilai Rata-rata 20 baris pertama kolom Sumbu Kecil bukan 50?\n",
    "\n",
    "    d. Proporsi nilai Diameter yang lebih dari 85, adalah tidak sama dengan 15% ?\n",
    "\n",
    "    e. Proporsi nilai Keliling yang kurang dari 100, adalah kurang dari 5% ?"
   ],
   "cell_type": "markdown",
   "metadata": {}
  },
  {
   "source": [
    "5. Melakukan test hipotesis 2 sampel, dengan menuliskan 6 langkah testing dan menampilkan\n",
    "juga boxplotnya untuk kolom/bagian yang bersesuaian.\n",
    "\n",
    "    a. Data kolom AreaBulatan dibagi 2 sama rata: bagian awal dan bagian akhir kolom. Benarkah rata-rata kedua bagian tersebut sama?\n",
    "\n",
    "    b. Data kolom Kadar Air dibagi 2 sama rata: bagian awal dan bagian akhir kolom. Benarkah rata-rata bagian awal lebih besar dari pada bagian akhir sebesar 0.2?\n",
    "\n",
    "    c. Rata-rata 20 baris pertama kolom Bulatan sama dengan 20 baris terakhirnya?\n",
    "\n",
    "    d. Proporsi nilai bagian awal Ransum yang lebih dari 2, adalah lebih besar daripada, proporsi nilai yang sama di bagian akhir Ransum?\n",
    "\n",
    "    e. Bagian awal kolom Diameter memiliki variansi yang sama dengan bagian akhirnya?"
   ],
   "cell_type": "markdown",
   "metadata": {}
  },
  {
   "source": [
    "6. Test korelasi: tentukan apakah setiap kolom non-target berkorelasi dengan kolom target,\n",
    "dengan menggambarkan juga scatter plot nya. Gunakan correlation test."
   ],
   "cell_type": "markdown",
   "metadata": {}
  }
 ]
}