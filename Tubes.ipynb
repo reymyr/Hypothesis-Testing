{
 "metadata": {
  "language_info": {
   "codemirror_mode": {
    "name": "ipython",
    "version": 3
   },
   "file_extension": ".py",
   "mimetype": "text/x-python",
   "name": "python",
   "nbconvert_exporter": "python",
   "pygments_lexer": "ipython3",
   "version": "3.8.8"
  },
  "orig_nbformat": 2,
  "kernelspec": {
   "name": "python388jvsc74a57bd0c00d3516dde569205dddedbcae33ab2f2a9ceedd92f9928f65ec9dadfaf3d47d",
   "display_name": "Python 3.8.8 64-bit"
  },
  "metadata": {
   "interpreter": {
    "hash": "c00d3516dde569205dddedbcae33ab2f2a9ceedd92f9928f65ec9dadfaf3d47d"
   }
  }
 },
 "nbformat": 4,
 "nbformat_minor": 2,
 "cells": [
  {
   "source": [
    "# Tugas Besar IF2220 Probabilitas dan Statistika\n",
    "\n"
   ],
   "cell_type": "markdown",
   "metadata": {}
  },
  {
   "cell_type": "code",
   "execution_count": 10,
   "metadata": {},
   "outputs": [
    {
     "output_type": "execute_result",
     "data": {
      "text/plain": [
       "       1  5781  128.2888753  58.47084588  0.890095088  5954  85.79392641  \\\n",
       "0      2  4176   109.348294    49.837688     0.890098  4277    72.918093   \n",
       "1      3  4555   114.427991    52.151207     0.890105  4706    76.155145   \n",
       "2      4  4141   108.701190    49.457349     0.890499  4236    72.611879   \n",
       "3      5  5273   122.747868    55.757848     0.890876  5431    81.937733   \n",
       "4      6  5371   123.943530    56.235398     0.891145  5531    82.695644   \n",
       "..   ...   ...          ...          ...          ...   ...          ...   \n",
       "494  496  5083   120.083450    54.821580     0.889709  5179    80.447975   \n",
       "495  497  4432   112.367050    51.294914     0.889726  4550    75.119889   \n",
       "496  498  5020   119.873742    54.718545     0.889740  5104    79.947874   \n",
       "497  499  4035   107.311728    48.930802     0.889996  4150    71.676506   \n",
       "498  500  3379    99.014789    44.631551     0.892647  3491    65.591741   \n",
       "\n",
       "     0.674090485  316.756  0.724040956  2.194065664  1.1  \n",
       "0       0.596231  260.346     0.774227     2.194088    1  \n",
       "1       0.776641  279.606     0.732159     2.194158    1  \n",
       "2       0.633180  260.478     0.766961     2.197877    1  \n",
       "3       0.669842  302.730     0.723031     2.201446    1  \n",
       "4       0.734144  297.114     0.764573     2.204013    1  \n",
       "..           ...      ...          ...          ...  ...  \n",
       "494     0.534827  286.377     0.778850     2.190441    2  \n",
       "495     0.601194  270.823     0.759344     2.190608    2  \n",
       "496     0.528421  285.799     0.772311     2.190733    2  \n",
       "497     0.584698  258.503     0.758791     2.193132    2  \n",
       "498     0.653578  237.593     0.752196     2.218493    2  \n",
       "\n",
       "[499 rows x 12 columns]"
      ],
      "text/html": "<div>\n<style scoped>\n    .dataframe tbody tr th:only-of-type {\n        vertical-align: middle;\n    }\n\n    .dataframe tbody tr th {\n        vertical-align: top;\n    }\n\n    .dataframe thead th {\n        text-align: right;\n    }\n</style>\n<table border=\"1\" class=\"dataframe\">\n  <thead>\n    <tr style=\"text-align: right;\">\n      <th></th>\n      <th>1</th>\n      <th>5781</th>\n      <th>128.2888753</th>\n      <th>58.47084588</th>\n      <th>0.890095088</th>\n      <th>5954</th>\n      <th>85.79392641</th>\n      <th>0.674090485</th>\n      <th>316.756</th>\n      <th>0.724040956</th>\n      <th>2.194065664</th>\n      <th>1.1</th>\n    </tr>\n  </thead>\n  <tbody>\n    <tr>\n      <th>0</th>\n      <td>2</td>\n      <td>4176</td>\n      <td>109.348294</td>\n      <td>49.837688</td>\n      <td>0.890098</td>\n      <td>4277</td>\n      <td>72.918093</td>\n      <td>0.596231</td>\n      <td>260.346</td>\n      <td>0.774227</td>\n      <td>2.194088</td>\n      <td>1</td>\n    </tr>\n    <tr>\n      <th>1</th>\n      <td>3</td>\n      <td>4555</td>\n      <td>114.427991</td>\n      <td>52.151207</td>\n      <td>0.890105</td>\n      <td>4706</td>\n      <td>76.155145</td>\n      <td>0.776641</td>\n      <td>279.606</td>\n      <td>0.732159</td>\n      <td>2.194158</td>\n      <td>1</td>\n    </tr>\n    <tr>\n      <th>2</th>\n      <td>4</td>\n      <td>4141</td>\n      <td>108.701190</td>\n      <td>49.457349</td>\n      <td>0.890499</td>\n      <td>4236</td>\n      <td>72.611879</td>\n      <td>0.633180</td>\n      <td>260.478</td>\n      <td>0.766961</td>\n      <td>2.197877</td>\n      <td>1</td>\n    </tr>\n    <tr>\n      <th>3</th>\n      <td>5</td>\n      <td>5273</td>\n      <td>122.747868</td>\n      <td>55.757848</td>\n      <td>0.890876</td>\n      <td>5431</td>\n      <td>81.937733</td>\n      <td>0.669842</td>\n      <td>302.730</td>\n      <td>0.723031</td>\n      <td>2.201446</td>\n      <td>1</td>\n    </tr>\n    <tr>\n      <th>4</th>\n      <td>6</td>\n      <td>5371</td>\n      <td>123.943530</td>\n      <td>56.235398</td>\n      <td>0.891145</td>\n      <td>5531</td>\n      <td>82.695644</td>\n      <td>0.734144</td>\n      <td>297.114</td>\n      <td>0.764573</td>\n      <td>2.204013</td>\n      <td>1</td>\n    </tr>\n    <tr>\n      <th>...</th>\n      <td>...</td>\n      <td>...</td>\n      <td>...</td>\n      <td>...</td>\n      <td>...</td>\n      <td>...</td>\n      <td>...</td>\n      <td>...</td>\n      <td>...</td>\n      <td>...</td>\n      <td>...</td>\n      <td>...</td>\n    </tr>\n    <tr>\n      <th>494</th>\n      <td>496</td>\n      <td>5083</td>\n      <td>120.083450</td>\n      <td>54.821580</td>\n      <td>0.889709</td>\n      <td>5179</td>\n      <td>80.447975</td>\n      <td>0.534827</td>\n      <td>286.377</td>\n      <td>0.778850</td>\n      <td>2.190441</td>\n      <td>2</td>\n    </tr>\n    <tr>\n      <th>495</th>\n      <td>497</td>\n      <td>4432</td>\n      <td>112.367050</td>\n      <td>51.294914</td>\n      <td>0.889726</td>\n      <td>4550</td>\n      <td>75.119889</td>\n      <td>0.601194</td>\n      <td>270.823</td>\n      <td>0.759344</td>\n      <td>2.190608</td>\n      <td>2</td>\n    </tr>\n    <tr>\n      <th>496</th>\n      <td>498</td>\n      <td>5020</td>\n      <td>119.873742</td>\n      <td>54.718545</td>\n      <td>0.889740</td>\n      <td>5104</td>\n      <td>79.947874</td>\n      <td>0.528421</td>\n      <td>285.799</td>\n      <td>0.772311</td>\n      <td>2.190733</td>\n      <td>2</td>\n    </tr>\n    <tr>\n      <th>497</th>\n      <td>499</td>\n      <td>4035</td>\n      <td>107.311728</td>\n      <td>48.930802</td>\n      <td>0.889996</td>\n      <td>4150</td>\n      <td>71.676506</td>\n      <td>0.584698</td>\n      <td>258.503</td>\n      <td>0.758791</td>\n      <td>2.193132</td>\n      <td>2</td>\n    </tr>\n    <tr>\n      <th>498</th>\n      <td>500</td>\n      <td>3379</td>\n      <td>99.014789</td>\n      <td>44.631551</td>\n      <td>0.892647</td>\n      <td>3491</td>\n      <td>65.591741</td>\n      <td>0.653578</td>\n      <td>237.593</td>\n      <td>0.752196</td>\n      <td>2.218493</td>\n      <td>2</td>\n    </tr>\n  </tbody>\n</table>\n<p>499 rows × 12 columns</p>\n</div>"
     },
     "metadata": {},
     "execution_count": 10
    }
   ],
   "source": [
    "import pandas as pd\r\n",
    "\r\n",
    "# Baca file Gandum.csv\r\n",
    "df = pd.read_csv(\"Gandum.csv\")\r\n",
    "df"
   ]
  },
  {
   "source": [
    "1. Menulis deskripsi statistika (Descriptive Statistics) dari semua kolom pada data yang bersifat\n",
    "numerik, terdiri dari mean, median, modus, standar deviasi, variansi, range, nilai minimum,\n",
    "maksimum, kuartil, IQR, skewness dan kurtosis. Boleh juga ditambahkan deskripsi lain."
   ],
   "cell_type": "markdown",
   "metadata": {}
  },
  {
   "source": [
    "2. Membuat Visualisasi plot distribusi, dalam bentuk histogram dan boxplot untuk setiap\n",
    "kolom numerik. Berikan uraian penjelasan kondisi setiap kolom berdasarkan kedua plot\n",
    "tersebut."
   ],
   "cell_type": "markdown",
   "metadata": {}
  },
  {
   "source": [
    "3. Menentukan setiap kolom numerik berdistribusi normal atau tidak. Gunakan normality test\n",
    "yang dikaitkan dengan histogram plot"
   ],
   "cell_type": "markdown",
   "metadata": {}
  },
  {
   "source": [
    "4. Melakukan test hipotesis 1 sampel, dengan menuliskan 6 langkah testing dan menampilkan\n",
    "juga boxplotnya untuk kolom/bagian yang bersesuaian.\n",
    "\n",
    "    a. Nilai rata-rata Daerah di atas 4700?\n",
    "\n",
    "    b. Nilai Rata-rata Sumbu Utama tidak sama dengan 116?\n",
    "\n",
    "    c. Nilai Rata-rata 20 baris pertama kolom Sumbu Kecil bukan 50?\n",
    "\n",
    "    d. Proporsi nilai Diameter yang lebih dari 85, adalah tidak sama dengan 15% ?\n",
    "\n",
    "    e. Proporsi nilai Keliling yang kurang dari 100, adalah kurang dari 5% ?"
   ],
   "cell_type": "markdown",
   "metadata": {}
  },
  {
   "source": [
    "5. Melakukan test hipotesis 2 sampel, dengan menuliskan 6 langkah testing dan menampilkan\n",
    "juga boxplotnya untuk kolom/bagian yang bersesuaian.\n",
    "\n",
    "    a. Data kolom AreaBulatan dibagi 2 sama rata: bagian awal dan bagian akhir kolom. Benarkah rata-rata kedua bagian tersebut sama?\n",
    "\n",
    "    b. Data kolom Kadar Air dibagi 2 sama rata: bagian awal dan bagian akhir kolom. Benarkah rata-rata bagian awal lebih besar dari pada bagian akhir sebesar 0.2?\n",
    "\n",
    "    c. Rata-rata 20 baris pertama kolom Bulatan sama dengan 20 baris terakhirnya?\n",
    "\n",
    "    d. Proporsi nilai bagian awal Ransum yang lebih dari 2, adalah lebih besar daripada, proporsi nilai yang sama di bagian akhir Ransum?\n",
    "\n",
    "    e. Bagian awal kolom Diameter memiliki variansi yang sama dengan bagian akhirnya?"
   ],
   "cell_type": "markdown",
   "metadata": {}
  },
  {
   "source": [
    "6. Test korelasi: tentukan apakah setiap kolom non-target berkorelasi dengan kolom target,\n",
    "dengan menggambarkan juga scatter plot nya. Gunakan correlation test."
   ],
   "cell_type": "markdown",
   "metadata": {}
  }
 ]
}